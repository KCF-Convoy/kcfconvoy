{
 "cells": [
  {
   "cell_type": "markdown",
   "metadata": {},
   "source": [
    "# １０月４日"
   ]
  },
  {
   "cell_type": "code",
   "execution_count": 1,
   "metadata": {},
   "outputs": [],
   "source": [
    "from IPython.display import Image\n",
    "import re\n",
    "\n",
    "# 機械学習関連のライブラリ群\n",
    "\n",
    "from sklearn.cross_validation import train_test_split # 訓練データとテストデータに分割\n",
    "from sklearn.metrics import confusion_matrix # 混合行列\n",
    "\n",
    "from sklearn.decomposition import PCA #主成分分析\n",
    "from sklearn.linear_model import LogisticRegression # ロジスティック回帰\n",
    "from sklearn.neighbors import KNeighborsClassifier # K近傍法\n",
    "from sklearn.svm import SVC # サポートベクターマシン\n",
    "from sklearn.tree import DecisionTreeClassifier # 決定木\n",
    "from sklearn.ensemble import RandomForestClassifier # ランダムフォレスト\n",
    "from sklearn.ensemble import AdaBoostClassifier # AdaBoost\n",
    "from sklearn.naive_bayes import GaussianNB # ナイーブ・ベイズ\n",
    "from sklearn.lda import LDA # 線形判別分析\n",
    "from sklearn.qda import QDA # 二次判別分析\n",
    "\n",
    "# 数値計算やデータフレーム操作に関するライブラリをインポートする\n",
    "import numpy as np\n",
    "import pandas as pd\n",
    "import scipy as sp\n",
    "from scipy import stats\n",
    "# 図やグラフを図示するためのライブラリをインポートする。\n",
    "%matplotlib inline\n",
    "import matplotlib.pyplot as plt\n",
    "from pandas.tools import plotting"
   ]
  },
  {
   "cell_type": "code",
   "execution_count": 2,
   "metadata": {},
   "outputs": [],
   "source": [
    "from kcfconvoy.Library import Library"
   ]
  },
  {
   "cell_type": "code",
   "execution_count": 3,
   "metadata": {
    "collapsed": true
   },
   "outputs": [],
   "source": [
    "brite = '/Users/kot/Dropbox/kegg/br08007.keg'"
   ]
  },
  {
   "cell_type": "code",
   "execution_count": null,
   "metadata": {},
   "outputs": [],
   "source": [
    "library = Library()"
   ]
  },
  {
   "cell_type": "code",
   "execution_count": null,
   "metadata": {},
   "outputs": [],
   "source": [
    "alphabet = list('ABCDEFGHIJKLKMOPQRSTUVWXYZ')\n",
    "hierarchy = {}\n",
    "group = {}\n",
    "_id = ''\n",
    "with open(brite) as f:\n",
    "    for line in f.readlines():\n",
    "        head = line[0:1]\n",
    "        if head in alphabet:\n",
    "            if head not in hierarchy.keys():\n",
    "                hierarchy[head] = ''\n",
    "            if re.search(r'[CD]\\d{5}', line):\n",
    "                _id = line.split()[1]\n",
    "                #print(_id)\n",
    "                library.input_from_kegg(_id)\n",
    "            else:\n",
    "                hierarchy[head] = line[1:].strip()\n",
    "            for level, name in hierarchy.items():\n",
    "                key = level + \":\" + name\n",
    "                if key not in group.keys():\n",
    "                    group[key] = []\n",
    "                group[key].append(_id)"
   ]
  },
  {
   "cell_type": "code",
   "execution_count": null,
   "metadata": {},
   "outputs": [],
   "source": [
    "len(library.cpds)"
   ]
  },
  {
   "cell_type": "code",
   "execution_count": null,
   "metadata": {},
   "outputs": [],
   "source": [
    "group_names = sorted(list(group.keys()))\n",
    "for i, group_name in enumerate(group_names):\n",
    "    if len(group[group_name]) < 10:\n",
    "        continue\n",
    "    print(i, group_name, len(group[group_name]))"
   ]
  },
  {
   "cell_type": "code",
   "execution_count": null,
   "metadata": {},
   "outputs": [],
   "source": [
    "group_names[3]"
   ]
  },
  {
   "cell_type": "code",
   "execution_count": null,
   "metadata": {
    "collapsed": true
   },
   "outputs": [],
   "source": [
    "classes = [1 if id in group[group_names[3]] else 0 for id in library.names]"
   ]
  },
  {
   "cell_type": "code",
   "execution_count": null,
   "metadata": {},
   "outputs": [],
   "source": [
    "print(classes)"
   ]
  },
  {
   "cell_type": "code",
   "execution_count": null,
   "metadata": {
    "collapsed": true
   },
   "outputs": [],
   "source": [
    "names = [\"Logistic Regression\", \"Nearest Neighbors\", \n",
    "         \"Linear SVM\", \"Polynomial SVM\", \"RBF SVM\", \"Sigmoid SVM\", \n",
    "         \"Decision Tree\",\"Random Forest\", \"AdaBoost\", \"Naive Bayes\", \n",
    "         \"Linear Discriminant Analysis\",\"Quadratic Discriminant Analysis\"]\n",
    "\n",
    "classifiers = [\n",
    "    LogisticRegression(),\n",
    "    KNeighborsClassifier(),\n",
    "    SVC(kernel=\"linear\"),\n",
    "    SVC(kernel=\"poly\"),\n",
    "    SVC(kernel=\"rbf\"),\n",
    "    SVC(kernel=\"sigmoid\"),\n",
    "    DecisionTreeClassifier(),\n",
    "    RandomForestClassifier(),\n",
    "    AdaBoostClassifier(),\n",
    "    GaussianNB(),\n",
    "    LDA(),\n",
    "    QDA()]"
   ]
  },
  {
   "cell_type": "code",
   "execution_count": null,
   "metadata": {},
   "outputs": [],
   "source": [
    "library.calc_fingerprints(x=0)\n",
    "X = [[int(fp.ToBitString()[i:i+1]) for i in range(len(fp.ToBitString()))] for fp in library.fps]\n",
    "y = classes"
   ]
  },
  {
   "cell_type": "code",
   "execution_count": null,
   "metadata": {},
   "outputs": [],
   "source": [
    "!date\n",
    "result = []\n",
    "for trial in range(10): # 10 回繰り返す\n",
    "    print(trial)\n",
    "    X_train, X_test, y_train, y_test = train_test_split(X, y, test_size=.4) # 訓練データ・テストデータの生成\n",
    "    for name, clf in zip(names, classifiers): # 指定した複数の分類機を順番に呼び出す\n",
    "        try:\n",
    "            clf.fit(X_train, y_train) # 学習\n",
    "            score1 = clf.score(X_train, y_train) # 正解率（train）の算出\n",
    "            score2 = clf.score(X_test, y_test) # 正解率（test）の算出\n",
    "            result.append([name, score1, score2]) # 結果の格納\n",
    "        except:\n",
    "            continue\n",
    "\n",
    "df_result = pd.DataFrame(result, columns=['classifier', 'train', 'test']) # 今回はまだ並べ替えはしない\n",
    "!date\n",
    "# 分類器 (classifier) 毎にグループ化して正解率の平均を計算し、test の正解率の平均の大きい順に並べる\n",
    "df_result_mean = df_result.groupby('classifier').mean().sort_values('test', ascending=False)\n",
    "# エラーバーの表示に用いる目的で、標準偏差を計算する\n",
    "errors = df_result.groupby('classifier').std()\n",
    "# 平均値と標準偏差を用いて棒グラフを描画\n",
    "df_result_mean.plot(kind='bar', alpha=0.5, grid=True, yerr=errors, ylim=[0, 1])"
   ]
  },
  {
   "cell_type": "code",
   "execution_count": null,
   "metadata": {},
   "outputs": [],
   "source": [
    "df_result_mean"
   ]
  },
  {
   "cell_type": "code",
   "execution_count": null,
   "metadata": {},
   "outputs": [],
   "source": [
    "errors"
   ]
  },
  {
   "cell_type": "code",
   "execution_count": null,
   "metadata": {},
   "outputs": [],
   "source": [
    "library.calc_fingerprints(x=1)\n",
    "X = [[int(fp.ToBitString()[i:i+1]) for i in range(len(fp.ToBitString()))] for fp in library.fps]\n",
    "y = classes\n",
    "!date\n",
    "result = []\n",
    "for trial in range(10): # 10 回繰り返す\n",
    "    print(trial)\n",
    "    X_train, X_test, y_train, y_test = train_test_split(X, y, test_size=.4) # 訓練データ・テストデータの生成\n",
    "    for name, clf in zip(names, classifiers): # 指定した複数の分類機を順番に呼び出す\n",
    "        try:\n",
    "            clf.fit(X_train, y_train) # 学習\n",
    "            score1 = clf.score(X_train, y_train) # 正解率（train）の算出\n",
    "            score2 = clf.score(X_test, y_test) # 正解率（test）の算出\n",
    "            result.append([name, score1, score2]) # 結果の格納\n",
    "        except:\n",
    "            continue\n",
    "\n",
    "df_result = pd.DataFrame(result, columns=['classifier', 'train', 'test']) # 今回はまだ並べ替えはしない\n",
    "!date\n",
    "# 分類器 (classifier) 毎にグループ化して正解率の平均を計算し、test の正解率の平均の大きい順に並べる\n",
    "df_result_mean = df_result.groupby('classifier').mean().sort_values('test', ascending=False)\n",
    "# エラーバーの表示に用いる目的で、標準偏差を計算する\n",
    "errors = df_result.groupby('classifier').std()\n",
    "# 平均値と標準偏差を用いて棒グラフを描画\n",
    "df_result_mean.plot(kind='bar', alpha=0.5, grid=True, yerr=errors, ylim=[0, 1])"
   ]
  },
  {
   "cell_type": "code",
   "execution_count": null,
   "metadata": {},
   "outputs": [],
   "source": [
    "df_result_mean"
   ]
  },
  {
   "cell_type": "code",
   "execution_count": null,
   "metadata": {},
   "outputs": [],
   "source": [
    "errors"
   ]
  },
  {
   "cell_type": "code",
   "execution_count": null,
   "metadata": {},
   "outputs": [],
   "source": [
    "library.calc_fingerprints(x=2)\n",
    "X = [[int(fp.ToBitString()[i:i+1]) for i in range(len(fp.ToBitString()))] for fp in library.fps]\n",
    "y = classes\n",
    "!date\n",
    "result = []\n",
    "for trial in range(10): # 10 回繰り返す\n",
    "    print(trial)\n",
    "    X_train, X_test, y_train, y_test = train_test_split(X, y, test_size=.4) # 訓練データ・テストデータの生成\n",
    "    for name, clf in zip(names, classifiers): # 指定した複数の分類機を順番に呼び出す\n",
    "        try:\n",
    "            clf.fit(X_train, y_train) # 学習\n",
    "            score1 = clf.score(X_train, y_train) # 正解率（train）の算出\n",
    "            score2 = clf.score(X_test, y_test) # 正解率（test）の算出\n",
    "            result.append([name, score1, score2]) # 結果の格納\n",
    "        except:\n",
    "            continue\n",
    "\n",
    "df_result = pd.DataFrame(result, columns=['classifier', 'train', 'test']) # 今回はまだ並べ替えはしない\n",
    "!date\n",
    "# 分類器 (classifier) 毎にグループ化して正解率の平均を計算し、test の正解率の平均の大きい順に並べる\n",
    "df_result_mean = df_result.groupby('classifier').mean().sort_values('test', ascending=False)\n",
    "# エラーバーの表示に用いる目的で、標準偏差を計算する\n",
    "errors = df_result.groupby('classifier').std()\n",
    "# 平均値と標準偏差を用いて棒グラフを描画\n",
    "df_result_mean.plot(kind='bar', alpha=0.5, grid=True, yerr=errors, ylim=[0, 1])"
   ]
  },
  {
   "cell_type": "code",
   "execution_count": null,
   "metadata": {},
   "outputs": [],
   "source": [
    "df_result_mean"
   ]
  },
  {
   "cell_type": "code",
   "execution_count": null,
   "metadata": {},
   "outputs": [],
   "source": [
    "errors"
   ]
  },
  {
   "cell_type": "code",
   "execution_count": null,
   "metadata": {},
   "outputs": [],
   "source": [
    "library.calc_fingerprints(x=3)\n",
    "X = [[int(fp.ToBitString()[i:i+1]) for i in range(len(fp.ToBitString()))] for fp in library.fps]\n",
    "y = classes\n",
    "!date\n",
    "result = []\n",
    "for trial in range(10): # 10 回繰り返す\n",
    "    print(trial)\n",
    "    X_train, X_test, y_train, y_test = train_test_split(X, y, test_size=.4) # 訓練データ・テストデータの生成\n",
    "    for name, clf in zip(names, classifiers): # 指定した複数の分類機を順番に呼び出す\n",
    "        try:\n",
    "            clf.fit(X_train, y_train) # 学習\n",
    "            score1 = clf.score(X_train, y_train) # 正解率（train）の算出\n",
    "            score2 = clf.score(X_test, y_test) # 正解率（test）の算出\n",
    "            result.append([name, score1, score2]) # 結果の格納\n",
    "        except:\n",
    "            continue\n",
    "\n",
    "df_result = pd.DataFrame(result, columns=['classifier', 'train', 'test']) # 今回はまだ並べ替えはしない\n",
    "!date\n",
    "# 分類器 (classifier) 毎にグループ化して正解率の平均を計算し、test の正解率の平均の大きい順に並べる\n",
    "df_result_mean = df_result.groupby('classifier').mean().sort_values('test', ascending=False)\n",
    "# エラーバーの表示に用いる目的で、標準偏差を計算する\n",
    "errors = df_result.groupby('classifier').std()\n",
    "# 平均値と標準偏差を用いて棒グラフを描画\n",
    "df_result_mean.plot(kind='bar', alpha=0.5, grid=True, yerr=errors, ylim=[0, 1])"
   ]
  },
  {
   "cell_type": "code",
   "execution_count": null,
   "metadata": {},
   "outputs": [],
   "source": [
    "df_result_mean"
   ]
  },
  {
   "cell_type": "code",
   "execution_count": null,
   "metadata": {},
   "outputs": [],
   "source": [
    "errors"
   ]
  },
  {
   "cell_type": "code",
   "execution_count": null,
   "metadata": {},
   "outputs": [],
   "source": [
    "import kcf.converter as kcfco\n",
    "#from nxrd.Compound import Compound\n",
    "!date\n",
    "kcfvecs = [kcfco.kcf_vec(cpd) for cpd in library.cpds]\n",
    "!date"
   ]
  },
  {
   "cell_type": "code",
   "execution_count": null,
   "metadata": {},
   "outputs": [],
   "source": [
    "!date\n",
    "kcfvecs_strs = list(set([item for kcfvec in kcfvecs for item in kcfvec.strs]))\n",
    "!date"
   ]
  },
  {
   "cell_type": "code",
   "execution_count": null,
   "metadata": {},
   "outputs": [],
   "source": [
    "!date\n",
    "kcfvecs2 = []\n",
    "for kcfvec in kcfvecs:\n",
    "    vec = np.zeros(len(kcfvecs_strs))\n",
    "    for _str in enumerate(kcfvec.strs):\n",
    "        vec[kcfvecs_strs.index(_str[1])] = kcfvec.counts[_str[0]]\n",
    "    kcfvecs2.append(vec)\n",
    "!date"
   ]
  },
  {
   "cell_type": "code",
   "execution_count": null,
   "metadata": {
    "collapsed": true
   },
   "outputs": [],
   "source": [
    "X = kcfvecs2\n",
    "y = classes"
   ]
  },
  {
   "cell_type": "code",
   "execution_count": null,
   "metadata": {},
   "outputs": [],
   "source": [
    "!date\n",
    "result = []\n",
    "for trial in range(10): # 10 回繰り返す\n",
    "    print(trial)\n",
    "    X_train, X_test, y_train, y_test = train_test_split(X, y, test_size=.4) # 訓練データ・テストデータの生成\n",
    "    for name, clf in zip(names, classifiers): # 指定した複数の分類機を順番に呼び出す\n",
    "        try:\n",
    "            clf.fit(X_train, y_train) # 学習\n",
    "            score1 = clf.score(X_train, y_train) # 正解率（train）の算出\n",
    "            score2 = clf.score(X_test, y_test) # 正解率（test）の算出\n",
    "            result.append([name, score1, score2]) # 結果の格納\n",
    "        except:\n",
    "            continue\n",
    "\n",
    "df_result = pd.DataFrame(result, columns=['classifier', 'train', 'test']) # 今回はまだ並べ替えはしない\n",
    "!date\n",
    "# 分類器 (classifier) 毎にグループ化して正解率の平均を計算し、test の正解率の平均の大きい順に並べる\n",
    "df_result_mean = df_result.groupby('classifier').mean().sort_values('test', ascending=False)\n",
    "# エラーバーの表示に用いる目的で、標準偏差を計算する\n",
    "errors = df_result.groupby('classifier').std()\n",
    "# 平均値と標準偏差を用いて棒グラフを描画\n",
    "df_result_mean.plot(kind='bar', alpha=0.5, grid=True, yerr=errors, ylim=[0, 1])"
   ]
  },
  {
   "cell_type": "code",
   "execution_count": null,
   "metadata": {},
   "outputs": [],
   "source": [
    "df_result_mean"
   ]
  },
  {
   "cell_type": "code",
   "execution_count": null,
   "metadata": {},
   "outputs": [],
   "source": [
    "errors"
   ]
  },
  {
   "cell_type": "code",
   "execution_count": null,
   "metadata": {},
   "outputs": [],
   "source": [
    "kcfvecs2"
   ]
  },
  {
   "cell_type": "code",
   "execution_count": null,
   "metadata": {},
   "outputs": [],
   "source": [
    "!date\n",
    "kcfvecs3 = np.array([])\n",
    "for kcfvec in kcfvecs:\n",
    "    vec = np.zeros(len(kcfvecs_strs))\n",
    "    for _str in enumerate(kcfvec.strs):\n",
    "        vec[kcfvecs_strs.index(_str[1])] = kcfvec.counts[_str[0]]\n",
    "    kcfvecs3 = np.append(kcfvecs3, vec)\n",
    "!date"
   ]
  },
  {
   "cell_type": "markdown",
   "metadata": {},
   "source": [
    "時間かかりすぎ\n",
    "!date\n",
    "array = np.array([])\n",
    "accepted_strs = []\n",
    "for _str in kcfvecs_strs:\n",
    "    #ary = []\n",
    "    #for kcfvec in kcfvecs:\n",
    "        #print(_str)\n",
    "    #    if _str[1] in kcfvec.strs:\n",
    "    ##        ary.append(kcfvec.counts[　.strs.index(_str[1])])\n",
    "    #        print(kcfvec.counts[kcfvec.strs.index(_str[1])])\n",
    "    #    else:\n",
    "    #        ary.append(0)\n",
    "    ary = np.array([kcfvec.counts[kcfvec.strs.index(_str)] if _str in kcfvec.strs else 0 for kcfvec in kcfvecs])\n",
    "    #if np.count_nonzero(ary) > len(kcfvecs_strs) / 20:\n",
    "    array = np.append(array, ary)\n",
    "    #    accepted_strs.append(_str[1])\n",
    "    #if len(array) > 10:\n",
    "    #    break\n",
    "!date"
   ]
  },
  {
   "cell_type": "code",
   "execution_count": null,
   "metadata": {},
   "outputs": [],
   "source": [
    "!date\n",
    "kcfvecs3 = np.zeros((len(kcfvecs), len(kcfvecs_strs)))\n",
    "for i, kcfvec in enumerate(kcfvecs):\n",
    "    #vec = np.zeros(len(kcfvecs_strs))\n",
    "    for j, _str in enumerate(kcfvec.strs):\n",
    "        kcfvecs3[i][kcfvecs_strs.index(_str)] = kcfvec.counts[j]\n",
    "        #print(i, j, kcfvecs_strs.index(_str), kcfvec.counts[j], _str)\n",
    "    #np.append(kcfvecs3, vec)\n",
    "    #print(i)\n",
    "    if i%50 == 0:\n",
    "        !date\n",
    "        print(i)\n",
    "    #    break\n",
    "!date"
   ]
  },
  {
   "cell_type": "code",
   "execution_count": null,
   "metadata": {},
   "outputs": [],
   "source": [
    "pd.DataFrame(kcfvecs3)"
   ]
  },
  {
   "cell_type": "code",
   "execution_count": null,
   "metadata": {},
   "outputs": [],
   "source": [
    "kcfvecs3T = kcfvecs3.T"
   ]
  },
  {
   "cell_type": "code",
   "execution_count": null,
   "metadata": {},
   "outputs": [],
   "source": [
    "np.where(kcfvecs3T == 0)"
   ]
  },
  {
   "cell_type": "code",
   "execution_count": null,
   "metadata": {},
   "outputs": [],
   "source": [
    "kcfvecs3T"
   ]
  },
  {
   "cell_type": "code",
   "execution_count": null,
   "metadata": {},
   "outputs": [],
   "source": [
    "plt.hist(kcfvecs3.std(axis = 0), bins=100, range=(0, 0.2))\n",
    "plt.grid()\n",
    "plt.show()"
   ]
  },
  {
   "cell_type": "code",
   "execution_count": null,
   "metadata": {},
   "outputs": [],
   "source": [
    "plt.hist(kcfvecs3.mean(axis = 0), bins=100, range=(0, 0.02))\n",
    "plt.grid()\n",
    "plt.show()"
   ]
  },
  {
   "cell_type": "code",
   "execution_count": null,
   "metadata": {},
   "outputs": [],
   "source": [
    "pd.DataFrame(kcfvecs3T)"
   ]
  },
  {
   "cell_type": "code",
   "execution_count": null,
   "metadata": {},
   "outputs": [],
   "source": [
    "min_cpd = len(kcfvecs3) / 100\n",
    "mask_array = np.array([len(np.where(a!=0)[0]) > min_cpd for a in kcfvecs3T])\n",
    "kcfvecs3T2 = kcfvecs3T[mask_array]"
   ]
  },
  {
   "cell_type": "code",
   "execution_count": null,
   "metadata": {},
   "outputs": [],
   "source": [
    "pd.DataFrame(kcfvecs3T2)"
   ]
  },
  {
   "cell_type": "code",
   "execution_count": null,
   "metadata": {
    "collapsed": true
   },
   "outputs": [],
   "source": [
    "kcfvecs4 = kcfvecs3T2.T"
   ]
  },
  {
   "cell_type": "code",
   "execution_count": null,
   "metadata": {
    "scrolled": false
   },
   "outputs": [],
   "source": [
    "pd.DataFrame(kcfvecs4)"
   ]
  },
  {
   "cell_type": "code",
   "execution_count": null,
   "metadata": {
    "collapsed": true
   },
   "outputs": [],
   "source": [
    "X = kcfvecs4\n",
    "y = classes"
   ]
  },
  {
   "cell_type": "code",
   "execution_count": null,
   "metadata": {},
   "outputs": [],
   "source": [
    "!date\n",
    "result = []\n",
    "for trial in range(10): # 10 回繰り返す\n",
    "    print(trial)\n",
    "    X_train, X_test, y_train, y_test = train_test_split(X, y, test_size=.4) # 訓練データ・テストデータの生成\n",
    "    for name, clf in zip(names, classifiers): # 指定した複数の分類機を順番に呼び出す\n",
    "        try:\n",
    "            clf.fit(X_train, y_train) # 学習\n",
    "            score1 = clf.score(X_train, y_train) # 正解率（train）の算出\n",
    "            score2 = clf.score(X_test, y_test) # 正解率（test）の算出\n",
    "            result.append([name, score1, score2]) # 結果の格納\n",
    "        except:\n",
    "            continue\n",
    "\n",
    "df_result = pd.DataFrame(result, columns=['classifier', 'train', 'test']) # 今回はまだ並べ替えはしない\n",
    "!date\n",
    "# 分類器 (classifier) 毎にグループ化して正解率の平均を計算し、test の正解率の平均の大きい順に並べる\n",
    "df_result_mean = df_result.groupby('classifier').mean().sort_values('test', ascending=False)\n",
    "# エラーバーの表示に用いる目的で、標準偏差を計算する\n",
    "errors = df_result.groupby('classifier').std()\n",
    "# 平均値と標準偏差を用いて棒グラフを描画\n",
    "df_result_mean.plot(kind='bar', alpha=0.5, grid=True, yerr=errors, ylim=[0, 1])"
   ]
  },
  {
   "cell_type": "code",
   "execution_count": null,
   "metadata": {},
   "outputs": [],
   "source": [
    "df_result_mean"
   ]
  },
  {
   "cell_type": "code",
   "execution_count": null,
   "metadata": {},
   "outputs": [],
   "source": [
    "errors"
   ]
  },
  {
   "cell_type": "code",
   "execution_count": null,
   "metadata": {},
   "outputs": [],
   "source": [
    "min_cpd = len(kcfvecs3) / 200\n",
    "mask_array = np.array([len(np.where(a!=0)[0]) > min_cpd for a in kcfvecs3T])\n",
    "kcfvecs3T2 = kcfvecs3T[mask_array]\n",
    "kcfvecs4 = kcfvecs3T2.T\n",
    "pd.DataFrame(kcfvecs4)"
   ]
  },
  {
   "cell_type": "code",
   "execution_count": null,
   "metadata": {},
   "outputs": [],
   "source": [
    "X = kcfvecs4\n",
    "y = classes\n",
    "!date\n",
    "result = []\n",
    "for trial in range(10): # 10 回繰り返す\n",
    "    print(trial)\n",
    "    X_train, X_test, y_train, y_test = train_test_split(X, y, test_size=.4) # 訓練データ・テストデータの生成\n",
    "    for name, clf in zip(names, classifiers): # 指定した複数の分類機を順番に呼び出す\n",
    "        try:\n",
    "            clf.fit(X_train, y_train) # 学習\n",
    "            score1 = clf.score(X_train, y_train) # 正解率（train）の算出\n",
    "            score2 = clf.score(X_test, y_test) # 正解率（test）の算出\n",
    "            result.append([name, score1, score2]) # 結果の格納\n",
    "        except:\n",
    "            continue\n",
    "\n",
    "df_result = pd.DataFrame(result, columns=['classifier', 'train', 'test']) # 今回はまだ並べ替えはしない\n",
    "!date\n",
    "# 分類器 (classifier) 毎にグループ化して正解率の平均を計算し、test の正解率の平均の大きい順に並べる\n",
    "df_result_mean = df_result.groupby('classifier').mean().sort_values('test', ascending=False)\n",
    "# エラーバーの表示に用いる目的で、標準偏差を計算する\n",
    "errors = df_result.groupby('classifier').std()\n",
    "# 平均値と標準偏差を用いて棒グラフを描画\n",
    "df_result_mean.plot(kind='bar', alpha=0.5, grid=True, yerr=errors, ylim=[0, 1])"
   ]
  },
  {
   "cell_type": "code",
   "execution_count": null,
   "metadata": {},
   "outputs": [],
   "source": [
    "df_result_mean"
   ]
  },
  {
   "cell_type": "code",
   "execution_count": null,
   "metadata": {},
   "outputs": [],
   "source": [
    "errors"
   ]
  },
  {
   "cell_type": "code",
   "execution_count": null,
   "metadata": {},
   "outputs": [],
   "source": [
    "min_cpd = len(kcfvecs3) / 400\n",
    "mask_array = np.array([len(np.where(a!=0)[0]) > min_cpd for a in kcfvecs3T])\n",
    "kcfvecs3T2 = kcfvecs3T[mask_array]\n",
    "kcfvecs4 = kcfvecs3T2.T\n",
    "pd.DataFrame(kcfvecs4)"
   ]
  },
  {
   "cell_type": "code",
   "execution_count": null,
   "metadata": {},
   "outputs": [],
   "source": [
    "X = kcfvecs4\n",
    "y = classes\n",
    "!date\n",
    "result = []\n",
    "for trial in range(10): # 10 回繰り返す\n",
    "    print(trial)\n",
    "    X_train, X_test, y_train, y_test = train_test_split(X, y, test_size=.4) # 訓練データ・テストデータの生成\n",
    "    for name, clf in zip(names, classifiers): # 指定した複数の分類機を順番に呼び出す\n",
    "        try:\n",
    "            clf.fit(X_train, y_train) # 学習\n",
    "            score1 = clf.score(X_train, y_train) # 正解率（train）の算出\n",
    "            score2 = clf.score(X_test, y_test) # 正解率（test）の算出\n",
    "            result.append([name, score1, score2]) # 結果の格納\n",
    "        except:\n",
    "            continue\n",
    "\n",
    "df_result = pd.DataFrame(result, columns=['classifier', 'train', 'test']) # 今回はまだ並べ替えはしない\n",
    "!date\n",
    "# 分類器 (classifier) 毎にグループ化して正解率の平均を計算し、test の正解率の平均の大きい順に並べる\n",
    "df_result_mean = df_result.groupby('classifier').mean().sort_values('test', ascending=False)\n",
    "# エラーバーの表示に用いる目的で、標準偏差を計算する\n",
    "errors = df_result.groupby('classifier').std()\n",
    "# 平均値と標準偏差を用いて棒グラフを描画\n",
    "df_result_mean.plot(kind='bar', alpha=0.5, grid=True, yerr=errors, ylim=[0, 1])"
   ]
  },
  {
   "cell_type": "code",
   "execution_count": null,
   "metadata": {},
   "outputs": [],
   "source": [
    "df_result_mean"
   ]
  },
  {
   "cell_type": "code",
   "execution_count": null,
   "metadata": {},
   "outputs": [],
   "source": [
    "errors"
   ]
  },
  {
   "cell_type": "code",
   "execution_count": null,
   "metadata": {},
   "outputs": [],
   "source": [
    "min_cpd = len(kcfvecs3) / 800\n",
    "mask_array = np.array([len(np.where(a!=0)[0]) > min_cpd for a in kcfvecs3T])\n",
    "kcfvecs3T2 = kcfvecs3T[mask_array]\n",
    "kcfvecs4 = kcfvecs3T2.T\n",
    "pd.DataFrame(kcfvecs4)"
   ]
  },
  {
   "cell_type": "code",
   "execution_count": null,
   "metadata": {},
   "outputs": [],
   "source": [
    "X = kcfvecs4\n",
    "y = classes\n",
    "!date\n",
    "result = []\n",
    "for trial in range(10): # 10 回繰り返す\n",
    "    print(trial)\n",
    "    X_train, X_test, y_train, y_test = train_test_split(X, y, test_size=.4) # 訓練データ・テストデータの生成\n",
    "    for name, clf in zip(names, classifiers): # 指定した複数の分類機を順番に呼び出す\n",
    "        try:\n",
    "            clf.fit(X_train, y_train) # 学習\n",
    "            score1 = clf.score(X_train, y_train) # 正解率（train）の算出\n",
    "            score2 = clf.score(X_test, y_test) # 正解率（test）の算出\n",
    "            result.append([name, score1, score2]) # 結果の格納\n",
    "        except:\n",
    "            continue\n",
    "\n",
    "df_result = pd.DataFrame(result, columns=['classifier', 'train', 'test']) # 今回はまだ並べ替えはしない\n",
    "!date\n",
    "# 分類器 (classifier) 毎にグループ化して正解率の平均を計算し、test の正解率の平均の大きい順に並べる\n",
    "df_result_mean = df_result.groupby('classifier').mean().sort_values('test', ascending=False)\n",
    "# エラーバーの表示に用いる目的で、標準偏差を計算する\n",
    "errors = df_result.groupby('classifier').std()\n",
    "# 平均値と標準偏差を用いて棒グラフを描画\n",
    "df_result_mean.plot(kind='bar', alpha=0.5, grid=True, yerr=errors, ylim=[0, 1])"
   ]
  },
  {
   "cell_type": "code",
   "execution_count": null,
   "metadata": {},
   "outputs": [],
   "source": [
    "df_result_mean"
   ]
  },
  {
   "cell_type": "code",
   "execution_count": null,
   "metadata": {},
   "outputs": [],
   "source": [
    "errors"
   ]
  },
  {
   "cell_type": "code",
   "execution_count": null,
   "metadata": {
    "collapsed": true
   },
   "outputs": [],
   "source": []
  }
 ],
 "metadata": {
  "kernelspec": {
   "display_name": "Python 3",
   "language": "python",
   "name": "python3"
  },
  "language_info": {
   "codemirror_mode": {
    "name": "ipython",
    "version": 3
   },
   "file_extension": ".py",
   "mimetype": "text/x-python",
   "name": "python",
   "nbconvert_exporter": "python",
   "pygments_lexer": "ipython3",
   "version": "3.6.5"
  }
 },
 "nbformat": 4,
 "nbformat_minor": 2
}
